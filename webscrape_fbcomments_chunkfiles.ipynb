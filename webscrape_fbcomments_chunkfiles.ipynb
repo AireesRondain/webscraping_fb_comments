{
 "cells": [
  {
   "cell_type": "code",
   "execution_count": 1,
   "metadata": {},
   "outputs": [],
   "source": [
    "import os\n",
    "import json\n",
    "import warnings\n",
    "import numpy as np\n",
    "import pandas as pd\n",
    "import seaborn as sns\n",
    "from scripts import *\n",
    "import plotly.io as pio\n",
    "import plotly.express as px\n",
    "import matplotlib.pyplot as plt\n",
    "warnings.filterwarnings('ignore')\n",
    "pd.set_option('display.max_columns', 200)\n",
    "%matplotlib inline"
   ]
  },
  {
   "cell_type": "code",
   "execution_count": 2,
   "metadata": {},
   "outputs": [],
   "source": [
    "data_dir = os.path.abspath(\"../data\")"
   ]
  },
  {
   "cell_type": "markdown",
   "metadata": {},
   "source": [
    "### Source Files\n",
    "Scraped FB comments were divided into chunks during LangChain preprocessing due to connection/timeout issues"
   ]
  },
  {
   "cell_type": "code",
   "execution_count": 3,
   "metadata": {},
   "outputs": [],
   "source": [
    "fb0 = f'{data_dir}/sentiment_analysis_fbcomments-sublist-0.csv'\n",
    "fb1 = f'{data_dir}/sentiment_analysis_fbcomments-sublist-1.csv'\n",
    "fb2 = f'{data_dir}/sentiment_analysis_fbcomments-sublist-2.csv'\n",
    "fb3 = f'{data_dir}/sentiment_analysis_fbcomments-sublist-3.csv'\n",
    "fb4 = f'{data_dir}/sentiment_analysis_fbcomments-sublist-4.csv'\n",
    "fb5 = f'{data_dir}/sentiment_analysis_fbcomments-sublist-5.csv'\n",
    "fb6 = f'{data_dir}/sentiment_analysis_fbcomments-sublist-6.csv'\n",
    "fb7 = f'{data_dir}/sentiment_analysis_fbcomments-sublist-7.csv'\n",
    "fb8 = f'{data_dir}/sentiment_analysis_fbcomments-sublist-8.csv'\n",
    "\n",
    "fbcomment_cleanfile = f'{data_dir}/fbcomments_cleaned.csv'"
   ]
  },
  {
   "cell_type": "markdown",
   "metadata": {},
   "source": [
    "### Read to CSVs"
   ]
  },
  {
   "cell_type": "code",
   "execution_count": 4,
   "metadata": {},
   "outputs": [],
   "source": [
    "csv_files = [fb0, fb1, fb2, fb3, fb4, fb5, fb6, fb7, fb8]\n",
    "\n",
    "# Create an empty dictionary to store dataframes\n",
    "dfs = {}\n",
    "\n",
    "for file_path in csv_files:\n",
    "    comment_chunk = file_path.split('.')[0] \n",
    "    \n",
    "    # Read the CSV file into a DataFrame and store it in the dictionary\n",
    "    dfs[comment_chunk] = pd.read_csv(file_path)\n",
    "\n"
   ]
  },
  {
   "cell_type": "code",
   "execution_count": 5,
   "metadata": {},
   "outputs": [],
   "source": [
    "# From the dictionary of dataframes, combine all of them into one dataframe\n",
    "\n",
    "fbcomments = pd.concat(dfs.values(), ignore_index=True)\n",
    "fbcomments.drop(columns='Unnamed: 0', inplace=True)"
   ]
  },
  {
   "cell_type": "code",
   "execution_count": 6,
   "metadata": {},
   "outputs": [
    {
     "data": {
      "text/plain": [
       "(2108, 4)"
      ]
     },
     "execution_count": 6,
     "metadata": {},
     "output_type": "execute_result"
    }
   ],
   "source": [
    "fbcomments.shape"
   ]
  },
  {
   "cell_type": "code",
   "execution_count": 7,
   "metadata": {},
   "outputs": [
    {
     "data": {
      "text/html": [
       "<div>\n",
       "<style scoped>\n",
       "    .dataframe tbody tr th:only-of-type {\n",
       "        vertical-align: middle;\n",
       "    }\n",
       "\n",
       "    .dataframe tbody tr th {\n",
       "        vertical-align: top;\n",
       "    }\n",
       "\n",
       "    .dataframe thead th {\n",
       "        text-align: right;\n",
       "    }\n",
       "</style>\n",
       "<table border=\"1\" class=\"dataframe\">\n",
       "  <thead>\n",
       "    <tr style=\"text-align: right;\">\n",
       "      <th></th>\n",
       "      <th>topic</th>\n",
       "      <th>sentiment</th>\n",
       "      <th>summary</th>\n",
       "      <th>product_rating</th>\n",
       "    </tr>\n",
       "  </thead>\n",
       "  <tbody>\n",
       "    <tr>\n",
       "      <th>0</th>\n",
       "      <td>['Food', 'Pancit Canton']</td>\n",
       "      <td>positive</td>\n",
       "      <td>The commenter expresses delight in the taste o...</td>\n",
       "      <td>5</td>\n",
       "    </tr>\n",
       "    <tr>\n",
       "      <th>1</th>\n",
       "      <td>['Favorite names for kids', 'LuckyMe']</td>\n",
       "      <td>positive</td>\n",
       "      <td>The commenter's favorite names for their kids ...</td>\n",
       "      <td>5</td>\n",
       "    </tr>\n",
       "    <tr>\n",
       "      <th>2</th>\n",
       "      <td>['Merienda', 'Pancit Canton']</td>\n",
       "      <td>positive</td>\n",
       "      <td>The post is about the user's favorite merienda...</td>\n",
       "      <td>5</td>\n",
       "    </tr>\n",
       "    <tr>\n",
       "      <th>3</th>\n",
       "      <td>['College days', 'Work']</td>\n",
       "      <td>positive</td>\n",
       "      <td>The commenter reminisces about how this produc...</td>\n",
       "      <td>5</td>\n",
       "    </tr>\n",
       "    <tr>\n",
       "      <th>4</th>\n",
       "      <td>['Food', 'LuckyMe']</td>\n",
       "      <td>positive</td>\n",
       "      <td>The commenter enjoys the product and their chi...</td>\n",
       "      <td>5</td>\n",
       "    </tr>\n",
       "  </tbody>\n",
       "</table>\n",
       "</div>"
      ],
      "text/plain": [
       "                                    topic sentiment  \\\n",
       "0               ['Food', 'Pancit Canton']  positive   \n",
       "1  ['Favorite names for kids', 'LuckyMe']  positive   \n",
       "2           ['Merienda', 'Pancit Canton']  positive   \n",
       "3                ['College days', 'Work']  positive   \n",
       "4                     ['Food', 'LuckyMe']  positive   \n",
       "\n",
       "                                             summary  product_rating  \n",
       "0  The commenter expresses delight in the taste o...               5  \n",
       "1  The commenter's favorite names for their kids ...               5  \n",
       "2  The post is about the user's favorite merienda...               5  \n",
       "3  The commenter reminisces about how this produc...               5  \n",
       "4  The commenter enjoys the product and their chi...               5  "
      ]
     },
     "execution_count": 7,
     "metadata": {},
     "output_type": "execute_result"
    }
   ],
   "source": [
    "fbcomments.head()\n"
   ]
  },
  {
   "cell_type": "code",
   "execution_count": 8,
   "metadata": {},
   "outputs": [],
   "source": [
    "df = fbcomments[['topic']].copy()"
   ]
  },
  {
   "cell_type": "code",
   "execution_count": 9,
   "metadata": {},
   "outputs": [
    {
     "data": {
      "text/html": [
       "<div>\n",
       "<style scoped>\n",
       "    .dataframe tbody tr th:only-of-type {\n",
       "        vertical-align: middle;\n",
       "    }\n",
       "\n",
       "    .dataframe tbody tr th {\n",
       "        vertical-align: top;\n",
       "    }\n",
       "\n",
       "    .dataframe thead th {\n",
       "        text-align: right;\n",
       "    }\n",
       "</style>\n",
       "<table border=\"1\" class=\"dataframe\">\n",
       "  <thead>\n",
       "    <tr style=\"text-align: right;\">\n",
       "      <th></th>\n",
       "      <th>topic</th>\n",
       "    </tr>\n",
       "  </thead>\n",
       "  <tbody>\n",
       "    <tr>\n",
       "      <th>0</th>\n",
       "      <td>['Food', 'Pancit Canton']</td>\n",
       "    </tr>\n",
       "    <tr>\n",
       "      <th>1</th>\n",
       "      <td>['Favorite names for kids', 'LuckyMe']</td>\n",
       "    </tr>\n",
       "    <tr>\n",
       "      <th>2</th>\n",
       "      <td>['Merienda', 'Pancit Canton']</td>\n",
       "    </tr>\n",
       "    <tr>\n",
       "      <th>3</th>\n",
       "      <td>['College days', 'Work']</td>\n",
       "    </tr>\n",
       "    <tr>\n",
       "      <th>4</th>\n",
       "      <td>['Food', 'LuckyMe']</td>\n",
       "    </tr>\n",
       "  </tbody>\n",
       "</table>\n",
       "</div>"
      ],
      "text/plain": [
       "                                    topic\n",
       "0               ['Food', 'Pancit Canton']\n",
       "1  ['Favorite names for kids', 'LuckyMe']\n",
       "2           ['Merienda', 'Pancit Canton']\n",
       "3                ['College days', 'Work']\n",
       "4                     ['Food', 'LuckyMe']"
      ]
     },
     "execution_count": 9,
     "metadata": {},
     "output_type": "execute_result"
    }
   ],
   "source": [
    "df.head()"
   ]
  },
  {
   "cell_type": "code",
   "execution_count": 10,
   "metadata": {},
   "outputs": [
    {
     "data": {
      "text/plain": [
       "[]                                               837\n",
       "['Food', 'LuckyMe']                              269\n",
       "['LuckyMe', 'product quality']                    77\n",
       "['product quality']                               69\n",
       "['Product quality']                               25\n",
       "['food', 'LuckyMe']                               24\n",
       "['LuckyMe']                                       14\n",
       "['Food']                                          14\n",
       "['Unknown']                                       13\n",
       "['Favorite things']                               11\n",
       "['Food', 'Taste']                                 11\n",
       "['LuckyMePancitCanton', 'jomarson']               11\n",
       "['Food', 'Pancit Canton']                          9\n",
       "['Favorite food', 'LuckyMe']                       7\n",
       "['product quality', 'LuckyMe']                     7\n",
       "['Spicy food', 'LuckyMe']                          7\n",
       "['LuckyMe', 'food']                                7\n",
       "['Food', 'Snacks']                                 6\n",
       "['Cooking', 'LuckyMe']                             6\n",
       "['Pancit Canton', 'LuckyMe']                       6\n",
       "['food']                                           6\n",
       "['LuckyMe', 'Pancit Canton']                       5\n",
       "['Jihoz']                                          5\n",
       "['LuckyMePancitCanton', 'Jomarson']                5\n",
       "['Favorite things', 'LuckyMe']                     5\n",
       "['favorite']                                       5\n",
       "['Food', 'Spicy food']                             4\n",
       "['Congratulations']                                4\n",
       "['LuckyMe', 'favorite food']                       4\n",
       "['Product availability']                           4\n",
       "['General', 'LuckyMe']                             3\n",
       "['Food', 'Spicy']                                  3\n",
       "['Christmas']                                      3\n",
       "['Emojis', 'LuckyMe']                              3\n",
       "['Food', 'Cooking']                                3\n",
       "['Thank you']                                      3\n",
       "['Spicy food']                                     3\n",
       "['Christmas', 'LuckyMe']                           3\n",
       "['participation', 'LuckyMe']                       3\n",
       "['Food', 'Spicy Food']                             3\n",
       "['Food', 'Breakfast']                              3\n",
       "['nan']                                            3\n",
       "['SLP']                                            3\n",
       "['food', 'breakfast']                              3\n",
       "['hunger']                                         2\n",
       "['Sleep', 'LuckyMe']                               2\n",
       "['product flavor']                                 2\n",
       "['Lucky Me Pancit Canton', 'product quality']      2\n",
       "['Gleemart']                                       2\n",
       "['Facebook comment']                               2\n",
       "Name: topic, dtype: int64"
      ]
     },
     "execution_count": 10,
     "metadata": {},
     "output_type": "execute_result"
    }
   ],
   "source": [
    "df['topic'].value_counts().head(50)"
   ]
  },
  {
   "cell_type": "code",
   "execution_count": 11,
   "metadata": {},
   "outputs": [],
   "source": [
    "# load cleaned webscraped fbcomments file\n",
    "og_df = pd.read_csv(fbcomment_cleanfile)\n",
    "og_df.drop(columns='Unnamed: 0', inplace=True)"
   ]
  },
  {
   "cell_type": "code",
   "execution_count": 12,
   "metadata": {},
   "outputs": [
    {
     "data": {
      "text/html": [
       "<div>\n",
       "<style scoped>\n",
       "    .dataframe tbody tr th:only-of-type {\n",
       "        vertical-align: middle;\n",
       "    }\n",
       "\n",
       "    .dataframe tbody tr th {\n",
       "        vertical-align: top;\n",
       "    }\n",
       "\n",
       "    .dataframe thead th {\n",
       "        text-align: right;\n",
       "    }\n",
       "</style>\n",
       "<table border=\"1\" class=\"dataframe\">\n",
       "  <thead>\n",
       "    <tr style=\"text-align: right;\">\n",
       "      <th></th>\n",
       "      <th>date</th>\n",
       "      <th>text</th>\n",
       "    </tr>\n",
       "  </thead>\n",
       "  <tbody>\n",
       "    <tr>\n",
       "      <th>0</th>\n",
       "      <td>2021-05-30</td>\n",
       "      <td>Wow sarap tlaga bsta pancit canton may fav chi...</td>\n",
       "    </tr>\n",
       "    <tr>\n",
       "      <th>1</th>\n",
       "      <td>2021-05-30</td>\n",
       "      <td>Favorite namen ng kids ko yan momsh Lalo ng pa...</td>\n",
       "    </tr>\n",
       "    <tr>\n",
       "      <th>2</th>\n",
       "      <td>2021-05-30</td>\n",
       "      <td>Favorite merienda namin to lalo na ang pancit ...</td>\n",
       "    </tr>\n",
       "    <tr>\n",
       "      <th>3</th>\n",
       "      <td>2021-05-30</td>\n",
       "      <td>I remember the days na ito yung nagpapa surviv...</td>\n",
       "    </tr>\n",
       "    <tr>\n",
       "      <th>4</th>\n",
       "      <td>2021-05-31</td>\n",
       "      <td>Sarap fav.namin ng mga anak ko pero my limit p...</td>\n",
       "    </tr>\n",
       "  </tbody>\n",
       "</table>\n",
       "</div>"
      ],
      "text/plain": [
       "         date                                               text\n",
       "0  2021-05-30  Wow sarap tlaga bsta pancit canton may fav chi...\n",
       "1  2021-05-30  Favorite namen ng kids ko yan momsh Lalo ng pa...\n",
       "2  2021-05-30  Favorite merienda namin to lalo na ang pancit ...\n",
       "3  2021-05-30  I remember the days na ito yung nagpapa surviv...\n",
       "4  2021-05-31  Sarap fav.namin ng mga anak ko pero my limit p..."
      ]
     },
     "execution_count": 12,
     "metadata": {},
     "output_type": "execute_result"
    }
   ],
   "source": [
    "og_df.head()"
   ]
  },
  {
   "cell_type": "code",
   "execution_count": 13,
   "metadata": {},
   "outputs": [
    {
     "data": {
      "text/html": [
       "<div>\n",
       "<style scoped>\n",
       "    .dataframe tbody tr th:only-of-type {\n",
       "        vertical-align: middle;\n",
       "    }\n",
       "\n",
       "    .dataframe tbody tr th {\n",
       "        vertical-align: top;\n",
       "    }\n",
       "\n",
       "    .dataframe thead th {\n",
       "        text-align: right;\n",
       "    }\n",
       "</style>\n",
       "<table border=\"1\" class=\"dataframe\">\n",
       "  <thead>\n",
       "    <tr style=\"text-align: right;\">\n",
       "      <th></th>\n",
       "      <th>date</th>\n",
       "      <th>text</th>\n",
       "      <th>topic</th>\n",
       "      <th>sentiment</th>\n",
       "      <th>summary</th>\n",
       "      <th>product_rating</th>\n",
       "    </tr>\n",
       "  </thead>\n",
       "  <tbody>\n",
       "    <tr>\n",
       "      <th>0</th>\n",
       "      <td>2021-05-30</td>\n",
       "      <td>Wow sarap tlaga bsta pancit canton may fav chi...</td>\n",
       "      <td>['Food', 'Pancit Canton']</td>\n",
       "      <td>positive</td>\n",
       "      <td>The commenter expresses delight in the taste o...</td>\n",
       "      <td>5</td>\n",
       "    </tr>\n",
       "    <tr>\n",
       "      <th>1</th>\n",
       "      <td>2021-05-30</td>\n",
       "      <td>Favorite namen ng kids ko yan momsh Lalo ng pa...</td>\n",
       "      <td>['Favorite names for kids', 'LuckyMe']</td>\n",
       "      <td>positive</td>\n",
       "      <td>The commenter's favorite names for their kids ...</td>\n",
       "      <td>5</td>\n",
       "    </tr>\n",
       "    <tr>\n",
       "      <th>2</th>\n",
       "      <td>2021-05-30</td>\n",
       "      <td>Favorite merienda namin to lalo na ang pancit ...</td>\n",
       "      <td>['Merienda', 'Pancit Canton']</td>\n",
       "      <td>positive</td>\n",
       "      <td>The post is about the user's favorite merienda...</td>\n",
       "      <td>5</td>\n",
       "    </tr>\n",
       "    <tr>\n",
       "      <th>3</th>\n",
       "      <td>2021-05-30</td>\n",
       "      <td>I remember the days na ito yung nagpapa surviv...</td>\n",
       "      <td>['College days', 'Work']</td>\n",
       "      <td>positive</td>\n",
       "      <td>The commenter reminisces about how this produc...</td>\n",
       "      <td>5</td>\n",
       "    </tr>\n",
       "    <tr>\n",
       "      <th>4</th>\n",
       "      <td>2021-05-31</td>\n",
       "      <td>Sarap fav.namin ng mga anak ko pero my limit p...</td>\n",
       "      <td>['Food', 'LuckyMe']</td>\n",
       "      <td>positive</td>\n",
       "      <td>The commenter enjoys the product and their chi...</td>\n",
       "      <td>5</td>\n",
       "    </tr>\n",
       "  </tbody>\n",
       "</table>\n",
       "</div>"
      ],
      "text/plain": [
       "         date                                               text  \\\n",
       "0  2021-05-30  Wow sarap tlaga bsta pancit canton may fav chi...   \n",
       "1  2021-05-30  Favorite namen ng kids ko yan momsh Lalo ng pa...   \n",
       "2  2021-05-30  Favorite merienda namin to lalo na ang pancit ...   \n",
       "3  2021-05-30  I remember the days na ito yung nagpapa surviv...   \n",
       "4  2021-05-31  Sarap fav.namin ng mga anak ko pero my limit p...   \n",
       "\n",
       "                                    topic sentiment  \\\n",
       "0               ['Food', 'Pancit Canton']  positive   \n",
       "1  ['Favorite names for kids', 'LuckyMe']  positive   \n",
       "2           ['Merienda', 'Pancit Canton']  positive   \n",
       "3                ['College days', 'Work']  positive   \n",
       "4                     ['Food', 'LuckyMe']  positive   \n",
       "\n",
       "                                             summary  product_rating  \n",
       "0  The commenter expresses delight in the taste o...               5  \n",
       "1  The commenter's favorite names for their kids ...               5  \n",
       "2  The post is about the user's favorite merienda...               5  \n",
       "3  The commenter reminisces about how this produc...               5  \n",
       "4  The commenter enjoys the product and their chi...               5  "
      ]
     },
     "execution_count": 13,
     "metadata": {},
     "output_type": "execute_result"
    }
   ],
   "source": [
    "combined_df = pd.concat([og_df,fbcomments], axis=1)\n",
    "combined_df.head()"
   ]
  },
  {
   "cell_type": "code",
   "execution_count": 14,
   "metadata": {},
   "outputs": [],
   "source": [
    "combined_df.rename(columns={'text':'comment'},inplace=True)"
   ]
  },
  {
   "cell_type": "code",
   "execution_count": 15,
   "metadata": {},
   "outputs": [
    {
     "data": {
      "text/html": [
       "<div>\n",
       "<style scoped>\n",
       "    .dataframe tbody tr th:only-of-type {\n",
       "        vertical-align: middle;\n",
       "    }\n",
       "\n",
       "    .dataframe tbody tr th {\n",
       "        vertical-align: top;\n",
       "    }\n",
       "\n",
       "    .dataframe thead th {\n",
       "        text-align: right;\n",
       "    }\n",
       "</style>\n",
       "<table border=\"1\" class=\"dataframe\">\n",
       "  <thead>\n",
       "    <tr style=\"text-align: right;\">\n",
       "      <th></th>\n",
       "      <th>date</th>\n",
       "      <th>comment</th>\n",
       "      <th>topic</th>\n",
       "      <th>sentiment</th>\n",
       "      <th>summary</th>\n",
       "      <th>product_rating</th>\n",
       "    </tr>\n",
       "  </thead>\n",
       "  <tbody>\n",
       "    <tr>\n",
       "      <th>0</th>\n",
       "      <td>2021-05-30</td>\n",
       "      <td>Wow sarap tlaga bsta pancit canton may fav chi...</td>\n",
       "      <td>['Food', 'Pancit Canton']</td>\n",
       "      <td>positive</td>\n",
       "      <td>The commenter expresses delight in the taste o...</td>\n",
       "      <td>5</td>\n",
       "    </tr>\n",
       "    <tr>\n",
       "      <th>1</th>\n",
       "      <td>2021-05-30</td>\n",
       "      <td>Favorite namen ng kids ko yan momsh Lalo ng pa...</td>\n",
       "      <td>['Favorite names for kids', 'LuckyMe']</td>\n",
       "      <td>positive</td>\n",
       "      <td>The commenter's favorite names for their kids ...</td>\n",
       "      <td>5</td>\n",
       "    </tr>\n",
       "    <tr>\n",
       "      <th>2</th>\n",
       "      <td>2021-05-30</td>\n",
       "      <td>Favorite merienda namin to lalo na ang pancit ...</td>\n",
       "      <td>['Merienda', 'Pancit Canton']</td>\n",
       "      <td>positive</td>\n",
       "      <td>The post is about the user's favorite merienda...</td>\n",
       "      <td>5</td>\n",
       "    </tr>\n",
       "    <tr>\n",
       "      <th>3</th>\n",
       "      <td>2021-05-30</td>\n",
       "      <td>I remember the days na ito yung nagpapa surviv...</td>\n",
       "      <td>['College days', 'Work']</td>\n",
       "      <td>positive</td>\n",
       "      <td>The commenter reminisces about how this produc...</td>\n",
       "      <td>5</td>\n",
       "    </tr>\n",
       "    <tr>\n",
       "      <th>4</th>\n",
       "      <td>2021-05-31</td>\n",
       "      <td>Sarap fav.namin ng mga anak ko pero my limit p...</td>\n",
       "      <td>['Food', 'LuckyMe']</td>\n",
       "      <td>positive</td>\n",
       "      <td>The commenter enjoys the product and their chi...</td>\n",
       "      <td>5</td>\n",
       "    </tr>\n",
       "  </tbody>\n",
       "</table>\n",
       "</div>"
      ],
      "text/plain": [
       "         date                                            comment  \\\n",
       "0  2021-05-30  Wow sarap tlaga bsta pancit canton may fav chi...   \n",
       "1  2021-05-30  Favorite namen ng kids ko yan momsh Lalo ng pa...   \n",
       "2  2021-05-30  Favorite merienda namin to lalo na ang pancit ...   \n",
       "3  2021-05-30  I remember the days na ito yung nagpapa surviv...   \n",
       "4  2021-05-31  Sarap fav.namin ng mga anak ko pero my limit p...   \n",
       "\n",
       "                                    topic sentiment  \\\n",
       "0               ['Food', 'Pancit Canton']  positive   \n",
       "1  ['Favorite names for kids', 'LuckyMe']  positive   \n",
       "2           ['Merienda', 'Pancit Canton']  positive   \n",
       "3                ['College days', 'Work']  positive   \n",
       "4                     ['Food', 'LuckyMe']  positive   \n",
       "\n",
       "                                             summary  product_rating  \n",
       "0  The commenter expresses delight in the taste o...               5  \n",
       "1  The commenter's favorite names for their kids ...               5  \n",
       "2  The post is about the user's favorite merienda...               5  \n",
       "3  The commenter reminisces about how this produc...               5  \n",
       "4  The commenter enjoys the product and their chi...               5  "
      ]
     },
     "execution_count": 15,
     "metadata": {},
     "output_type": "execute_result"
    }
   ],
   "source": [
    "combined_df.head()"
   ]
  },
  {
   "cell_type": "code",
   "execution_count": 147,
   "metadata": {},
   "outputs": [],
   "source": [
    "# Save to final csv file for further processing\n",
    "combined_df.to_csv(f'{data_dir}/fbcomments_for_viz.csv',index=False)"
   ]
  },
  {
   "cell_type": "code",
   "execution_count": null,
   "metadata": {},
   "outputs": [],
   "source": []
  }
 ],
 "metadata": {
  "kernelspec": {
   "display_name": ".venv",
   "language": "python",
   "name": "python3"
  },
  "language_info": {
   "codemirror_mode": {
    "name": "ipython",
    "version": 3
   },
   "file_extension": ".py",
   "mimetype": "text/x-python",
   "name": "python",
   "nbconvert_exporter": "python",
   "pygments_lexer": "ipython3",
   "version": "3.11.4"
  },
  "orig_nbformat": 4
 },
 "nbformat": 4,
 "nbformat_minor": 2
}
